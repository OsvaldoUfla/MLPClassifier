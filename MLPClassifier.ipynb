{
  "nbformat": 4,
  "nbformat_minor": 0,
  "metadata": {
    "colab": {
      "provenance": [],
      "include_colab_link": true
    },
    "kernelspec": {
      "name": "python3",
      "display_name": "Python 3"
    },
    "language_info": {
      "name": "python"
    }
  },
  "cells": [
    {
      "cell_type": "markdown",
      "metadata": {
        "id": "view-in-github",
        "colab_type": "text"
      },
      "source": [
        "<a href=\"https://colab.research.google.com/github/OsvaldoUfla/MLPClassifier/blob/main/MLPClassifier.ipynb\" target=\"_parent\"><img src=\"https://colab.research.google.com/assets/colab-badge.svg\" alt=\"Open In Colab\"/></a>"
      ]
    },
    {
      "cell_type": "markdown",
      "source": [
        "## Implementação MLPClassifier ##\n",
        "\n",
        "Alunos:\n",
        "* Leonardo Gonçalves Flora\n",
        "* Osvaldo Rodrigues de Faria Júnior\n"
      ],
      "metadata": {
        "id": "TSg1rx4uO-H2"
      }
    },
    {
      "cell_type": "markdown",
      "source": [
        "## 1. Importação ##\n",
        "\n",
        "Importamos as Bibliotecas necessárias e carregamos a Base de Dados Iris"
      ],
      "metadata": {
        "id": "vsrjB8NAPIg8"
      }
    },
    {
      "cell_type": "code",
      "execution_count": null,
      "metadata": {
        "id": "m4nG8LIPbT6n"
      },
      "outputs": [],
      "source": [
        "%matplotlib inline\n",
        "import numpy as np\n",
        "import pandas as pd\n",
        "from matplotlib import pyplot as plt\n",
        "import time\n",
        "import numpy as np\n",
        "import seaborn as sns\n",
        "from sklearn.neural_network import MLPClassifier\n",
        "from sklearn.model_selection import train_test_split\n",
        "from sklearn.metrics import confusion_matrix, precision_score, recall_score, accuracy_score\n",
        "from sklearn.datasets import load_iris\n",
        "\n",
        "# carregando a base de dados Iris\n",
        "iris = load_iris()\n"
      ]
    },
    {
      "cell_type": "markdown",
      "source": [
        "## 2. Preparação dos Dados ##\n",
        "\n",
        " Armazenamos as features do conjunto de dados na variável X e os rótulos na variável y, para que pudéssemos usá-los posteriormente"
      ],
      "metadata": {
        "id": "kcKluTxxPnz2"
      }
    },
    {
      "cell_type": "code",
      "source": [
        "# Dividindo os dados em conjuntos de treinamento e teste\n",
        "X = iris.data\n",
        "y = iris.target\n",
        "\n",
        "X_treino, X_teste, y_treino, y_teste = train_test_split(X, y, test_size=0.4, random_state=42)"
      ],
      "metadata": {
        "id": "PjeroDuylDRF"
      },
      "execution_count": null,
      "outputs": []
    },
    {
      "cell_type": "markdown",
      "source": [
        "## 3. Classificador ##\n",
        "\n",
        "Utilizamos o MLP da biblioteca Sklearn e definimos os parâmetros, como o número de neurônios na camada oculta e o número máximo de iterações para o treinamento. Em seguida, treinamos o modelo com os dados de treinamento e fizemos previsões com o conjunto teste."
      ],
      "metadata": {
        "id": "Uiz6Vv-jWIBV"
      }
    },
    {
      "cell_type": "code",
      "source": [
        "# Criando o classificador MLP\n",
        "mlp = MLPClassifier(hidden_layer_sizes=(100,), max_iter=1000, random_state=42)\n",
        "\n",
        "# Treinando o classificador\n",
        "mlp.fit(X_treino, y_treino)\n",
        "\n",
        "# Fazendo previsões no conjunto de teste\n",
        "y_pred = mlp.predict(X_teste)"
      ],
      "metadata": {
        "id": "7DMVPPR2WbS8"
      },
      "execution_count": null,
      "outputs": []
    },
    {
      "cell_type": "markdown",
      "source": [
        "## 4. Métricas de Avaliação ##\n",
        "\n",
        "Após fazer previsões utilizando o modelo treinado sobre os dados de teste, calculamos diversas métricas de avaliação para entender o quão bem o modelo está performando."
      ],
      "metadata": {
        "id": "yylcEnObWj1k"
      }
    },
    {
      "cell_type": "code",
      "source": [
        "# Calculando a matriz de confusão\n",
        "matriz_confusao = confusion_matrix(y_teste, y_pred)\n",
        "\n",
        "# Calculando métricas de avaliação\n",
        "acuracia = accuracy_score(y_teste, y_pred)\n",
        "precisao = precision_score(y_teste, y_pred, average='weighted')\n",
        "revocacao = recall_score(y_teste, y_pred, average='weighted')"
      ],
      "metadata": {
        "id": "freYrrJrWkIg"
      },
      "execution_count": null,
      "outputs": []
    },
    {
      "cell_type": "markdown",
      "source": [
        "## 5. Visualização dos resultados ##\n",
        "\n",
        "Por fim, implementamos a visualização da matriz de confusão usando a biblioteca Seaborn. Depois, imprimimos as métricas de avaliação e outras informações relevantes, como o número de amostras de treinamento e teste, além das precisões e revocações para cada classe."
      ],
      "metadata": {
        "id": "_r2c5-f6XTNz"
      }
    },
    {
      "cell_type": "code",
      "source": [
        "# Plotando a matriz de confusão\n",
        "plt.figure(figsize=(8, 6))\n",
        "sns.heatmap(matriz_confusao, annot=True, cmap=\"Blues\", fmt=\"d\", xticklabels=iris.target_names, yticklabels=iris.target_names)\n",
        "plt.xlabel('Classe Prevista')\n",
        "plt.ylabel('Classe Real')\n",
        "plt.title('Matriz de Confusão')\n",
        "plt.show()\n",
        "\n",
        "# Imprimindo as métricas de avaliação\n",
        "print(\"Número de amostras de treinamento:\", len(X_treino))\n",
        "print(\"Número de amostras de teste:\", len(X_teste))\n",
        "print(\"\\nPrecisão para setosa:\", precision_score(y_teste, y_pred, average=None)[0])\n",
        "print(\"Revocação para setosa:\", recall_score(y_teste, y_pred, average=None)[0])\n",
        "print(\"\\nPrecisão para versicolor:\", precision_score(y_teste, y_pred, average=None)[1])\n",
        "print(\"Revocação para versicolor:\", recall_score(y_teste, y_pred, average=None)[1])\n",
        "print(\"\\nPrecisão para virginica:\", precision_score(y_teste, y_pred, average=None)[2])\n",
        "print(\"Revocação para virginica:\", recall_score(y_teste, y_pred, average=None)[2])\n",
        "print(\"\\nPrecisão média:\", precisao)\n",
        "print(\"Revocação média:\", revocacao)\n",
        "print(\"Acurácia:\", acuracia)"
      ],
      "metadata": {
        "colab": {
          "base_uri": "https://localhost:8080/",
          "height": 824
        },
        "id": "jiYph8kPXTYr",
        "outputId": "a06f8ae8-61e0-4535-d8d4-5afe11ba46f7"
      },
      "execution_count": null,
      "outputs": [
        {
          "output_type": "display_data",
          "data": {
            "text/plain": [
              "<Figure size 800x600 with 2 Axes>"
            ],
            "image/png": "[encoded data removed]"
          },
          "metadata": {}
        },
        {
          "output_type": "stream",
          "name": "stdout",
          "text": [
            "Número de amostras de treinamento: 90\n",
            "Número de amostras de teste: 60\n",
            "\n",
            "Precisão para setosa: 1.0\n",
            "Revocação para setosa: 1.0\n",
            "\n",
            "Precisão para versicolor: 0.95\n",
            "Revocação para versicolor: 1.0\n",
            "\n",
            "Precisão para virginica: 1.0\n",
            "Revocação para virginica: 0.9444444444444444\n",
            "\n",
            "Precisão média: 0.9841666666666666\n",
            "Revocação média: 0.9833333333333333\n",
            "Acurácia: 0.9833333333333333\n"
          ]
        }
      ]
    },
    {
      "cell_type": "markdown",
      "source": [
        "## CÓDIGO KNN ##\n",
        "\n",
        "Esse é o código que implementamos no Trabalho Prático 1, mas reduzido, apenas para compararmos os resultados por aqui."
      ],
      "metadata": {
        "id": "S14JOa8cXoUR"
      }
    },
    {
      "cell_type": "code",
      "source": [
        "# Importação do DataSet Iris\n",
        "start_time_total = time.time()  # Inicia a contagem de tempo total\n",
        "\n",
        "# Converte os dados para um DataFrame do pandas\n",
        "iris_df = pd.DataFrame(data=iris.data, columns=iris.feature_names)\n",
        "\n",
        "# Adiciona uma coluna chamada 'species' usando o vetor de destino e decodificando o número da espécie\n",
        "iris_df['species'] = pd.Categorical.from_codes(iris.target, iris.target_names)\n",
        "\n",
        "# Divisão do conjunto de dados em treinamento e teste\n",
        "def dividir_dados_treino_teste(data, taxa_teste):\n",
        "    # Embaralhar os dados\n",
        "    np.random.shuffle(data)\n",
        "    # Calcular o índice para dividir os dados\n",
        "    indice_divisao = int(len(data) * taxa_teste)\n",
        "    # Dividir os dados em treinamento e teste\n",
        "    dados_teste = data[:indice_divisao]\n",
        "    dados_treinamento = data[indice_divisao:]\n",
        "    return dados_treinamento, dados_teste\n",
        "\n",
        "# Definir a taxa de teste\n",
        "taxa_teste = 0.4  # 40% dos dados serão usados para teste\n",
        "\n",
        "# Converter o DataFrame pandas em matriz numpy para facilitar a manipulação\n",
        "dados_iris = iris_df.values\n",
        "\n",
        "# Dividir os dados em treinamento e teste\n",
        "dados_treinamento, dados_teste = dividir_dados_treino_teste(dados_iris, taxa_teste)\n",
        "\n",
        "# Verificar o tamanho dos conjuntos de treinamento e teste\n",
        "print(\"Número de amostras de treinamento:\", len(dados_treinamento))\n",
        "print(\"Número de amostras de teste:\", len(dados_teste))\n",
        "\n",
        "# Calcula a distância euclidiana entre dois pontos\n",
        "def distancia(x1, x2):\n",
        "    dist = 0\n",
        "    for i in range(len(x1)):\n",
        "        dist += (x1[i] - x2[i])**2\n",
        "    return dist **0.5\n",
        "\n",
        "# Implementação do algoritmo KNN para classificação\n",
        "def knn_classificacao(dados_treinamento, dados_teste, k):\n",
        "    previsoes = []\n",
        "    for amostra_teste in dados_teste:\n",
        "        distancias = []\n",
        "        for amostra_treinamento in dados_treinamento:\n",
        "            dist = distancia(amostra_teste[:-1], amostra_treinamento[:-1])\n",
        "            distancias.append((amostra_treinamento, dist))\n",
        "        # Ordenar as distâncias\n",
        "        distancias.sort(key=lambda x: x[1])\n",
        "        # Pegar os k vizinhos mais próximos\n",
        "        vizinhos = distancias[:k]\n",
        "        # Contar a ocorrência de cada classe entre os vizinhos\n",
        "        contagem_classes = {}\n",
        "        for vizinho in vizinhos:\n",
        "            classe_vizinho = vizinho[0][-1]\n",
        "            if classe_vizinho in contagem_classes:\n",
        "                contagem_classes[classe_vizinho] += 1\n",
        "            else:\n",
        "                contagem_classes[classe_vizinho] = 1\n",
        "        # Classificar com base na classe mais frequente entre os vizinhos\n",
        "        classe_previsao = max(contagem_classes, key=contagem_classes.get)\n",
        "        previsoes.append(classe_previsao)\n",
        "    return previsoes\n",
        "\n",
        "# Função para calcular a taxa de reconhecimento\n",
        "def taxa_reconhecimento(previsoes, dados_teste):\n",
        "    corretos = 0\n",
        "    for i in range(len(dados_teste)):\n",
        "        if dados_teste[i][-1] == previsoes[i]:\n",
        "            corretos += 1\n",
        "    return (corretos / len(dados_teste)) * 100\n",
        "\n",
        "# Função para calcular a matriz de confusão\n",
        "def matriz_confusao(previsoes, dados_teste):\n",
        "    classes_reais = [linha[-1] for linha in dados_teste]\n",
        "    classes_previstas = previsoes\n",
        "    classes = np.unique(classes_reais)\n",
        "    matriz = np.zeros((len(classes), len(classes)))\n",
        "    for i in range(len(classes_reais)):\n",
        "        classe_real_index = np.where(classes == classes_reais[i])[0][0]\n",
        "        classe_prevista_index = np.where(classes == classes_previstas[i])[0][0]\n",
        "        matriz[classe_real_index][classe_prevista_index] += 1\n",
        "    return matriz\n",
        "\n",
        "# Função para calcular a precisão, revocação e acurácia média\n",
        "def calcular_metricas_medias(matriz_confusao):\n",
        "    precisao = np.diag(matriz_confusao) / np.sum(matriz_confusao, axis=0)\n",
        "    revocacao = np.diag(matriz_confusao) / np.sum(matriz_confusao, axis=1)\n",
        "    acuracia = (np.sum(np.diag(matriz_confusao))) / (np.sum(matriz_confusao))\n",
        "    precisao_media = np.mean(precisao)\n",
        "    revocacao_media = np.mean(revocacao)\n",
        "    return precisao_media, revocacao_media, acuracia\n",
        "\n",
        "# Realizar previsões com k = 3\n",
        "k = 3\n",
        "previsoes = knn_classificacao(dados_treinamento, dados_teste, k)\n",
        "# Calcular e imprimir a taxa de reconhecimento\n",
        "taxa_rec = taxa_reconhecimento(previsoes, dados_teste)\n",
        "print(f'Taxa de reconhecimento para k = {k}: {taxa_rec:.2f}%')\n",
        "\n",
        "# Calcular a matriz de confusão\n",
        "matriz_conf = matriz_confusao(previsoes, dados_teste)\n",
        "# Plotar a matriz de confusão\n",
        "plt.figure(figsize=(8, 6))\n",
        "sns.heatmap(matriz_conf, annot=True, cmap='Blues', fmt='g', xticklabels=iris.target_names, yticklabels=iris.target_names)\n",
        "plt.xlabel('Classe Prevista')\n",
        "plt.ylabel('Classe Real')\n",
        "plt.title(f'Matriz de Confusão (K = {k})')\n",
        "plt.show()\n",
        "\n",
        "# Calcular e imprimir as métricas de avaliação médias\n",
        "precisao_media, revocacao_media, acuracia = calcular_metricas_medias(matriz_conf)\n",
        "print(f\"\\nPrecisão média: {precisao_media:.2f}\")\n",
        "print(f\"Revocação média: {revocacao_media:.2f}\")\n",
        "print(f\"Acurácia média: {acuracia:.2f}\")\n",
        "\n",
        "end_time_total = time.time()  # Termina a contagem de tempo total\n",
        "total_time_total = end_time_total - start_time_total  # Calcula o tempo total de execução\n",
        "print(f\"\\nTempo total de execução: {total_time_total:.2f} segundos\")\n"
      ],
      "metadata": {
        "id": "NK53BeMYoQq-",
        "colab": {
          "base_uri": "https://localhost:8080/",
          "height": 720
        },
        "outputId": "4324a638-13da-450a-8ba6-14f78a3a6280"
      },
      "execution_count": null,
      "outputs": [
        {
          "output_type": "stream",
          "name": "stdout",
          "text": [
            "Número de amostras de treinamento: 90\n",
            "Número de amostras de teste: 60\n",
            "Taxa de reconhecimento para k = 3: 91.67%\n"
          ]
        },
        {
          "output_type": "display_data",
          "data": {
            "text/plain": [
              "<Figure size 800x600 with 2 Axes>"
            ],
            "image/png": "[encoded data removed]"
          },
          "metadata": {}
        },
        {
          "output_type": "stream",
          "name": "stdout",
          "text": [
            "\n",
            "Precisão média: 0.92\n",
            "Revocação média: 0.92\n",
            "Acurácia média: 0.92\n",
            "\n",
            "Tempo total de execução: 0.33 segundos\n"
          ]
        }
      ]
    }
  ]
}